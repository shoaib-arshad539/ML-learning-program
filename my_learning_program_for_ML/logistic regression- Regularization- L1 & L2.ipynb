{
 "cells": [
  {
   "cell_type": "code",
   "execution_count": 1,
   "metadata": {},
   "outputs": [],
   "source": [
    "import pandas as pd\n",
    "import numpy as np\n",
    "from sklearn.preprocessing import StandardScaler\n",
    "import matplotlib.pyplot as plt\n",
    "import scipy\n",
    "import seaborn as sns\n",
    "from sklearn.feature_selection import SelectKBest\n",
    "from sklearn.feature_selection import f_classif\n",
    "from sklearn.feature_selection import f_regression"
   ]
  },
  {
   "cell_type": "code",
   "execution_count": 2,
   "metadata": {},
   "outputs": [],
   "source": [
    "data = pd.read_csv(\"framingham.csv\")"
   ]
  },
  {
   "cell_type": "code",
   "execution_count": 3,
   "metadata": {},
   "outputs": [],
   "source": [
    "data.fillna(data.mean(), inplace=True)"
   ]
  },
  {
   "cell_type": "code",
   "execution_count": 4,
   "metadata": {},
   "outputs": [],
   "source": [
    "X = data[['cigsPerDay', 'prevalentHyp','currentSmoker','sysBP','diaBP']].values\n",
    "y = data['diabetes'].values"
   ]
  },
  {
   "cell_type": "code",
   "execution_count": 5,
   "metadata": {},
   "outputs": [],
   "source": [
    "sca = StandardScaler()\n",
    "scaled_data = sca.fit_transform(X)"
   ]
  },
  {
   "cell_type": "markdown",
   "metadata": {},
   "source": [
    "# L2 or Ridge Regression"
   ]
  },
  {
   "cell_type": "code",
   "execution_count": 6,
   "metadata": {},
   "outputs": [],
   "source": [
    "learning_rate = 0.002\n",
    "epochs = 10000\n",
    "m,n = X.shape\n",
    "theta = np.ones(n)\n",
    "lemda = 0.1\n",
    "def new_gradient_descent(scaled_data, theta):\n",
    "    for i in range(epochs):\n",
    "        hypothesis = np.dot(scaled_data, theta.T)\n",
    "        sigmoid = 1/(1 + np.exp(-hypothesis))\n",
    "        cost = -(((1/m) * np.sum(np.dot(y , np.log(sigmoid)) + np.dot(1 - y, np.log(1 - sigmoid))) + ((lemda/(2 * m))) * np.sum(np.square(theta))))\n",
    "        derivative = ((1/m) * (np.sum(np.dot((sigmoid - y),scaled_data) + (lemda / m) * theta)))\n",
    "        theta = theta - (learning_rate * derivative)\n",
    "    return (theta, cost, sigmoid)\n"
   ]
  },
  {
   "cell_type": "code",
   "execution_count": 7,
   "metadata": {},
   "outputs": [],
   "source": [
    "(theta, cost, sigmoid) = new_gradient_descent(scaled_data, theta)\n",
    "hypothesis = np.dot(scaled_data, theta.T)\n",
    "sigmoid = 1/(1 + np.exp(-hypothesis))"
   ]
  },
  {
   "cell_type": "code",
   "execution_count": 8,
   "metadata": {},
   "outputs": [
    {
     "data": {
      "text/plain": [
       "array([0.48778918, 0.49196012, 0.50208961, ..., 0.50075564, 0.50240543,\n",
       "       0.49387188])"
      ]
     },
     "execution_count": 8,
     "metadata": {},
     "output_type": "execute_result"
    }
   ],
   "source": [
    "sigmoid"
   ]
  },
  {
   "cell_type": "code",
   "execution_count": 9,
   "metadata": {},
   "outputs": [],
   "source": [
    "prediction = [1 if i > 0.5 else 0 for i in sigmoid]"
   ]
  },
  {
   "cell_type": "code",
   "execution_count": 10,
   "metadata": {},
   "outputs": [
    {
     "data": {
      "text/plain": [
       "0.693017039690034"
      ]
     },
     "execution_count": 10,
     "metadata": {},
     "output_type": "execute_result"
    }
   ],
   "source": [
    "cost"
   ]
  },
  {
   "cell_type": "code",
   "execution_count": 14,
   "metadata": {},
   "outputs": [],
   "source": [
    "data['prediction'] = prediction"
   ]
  },
  {
   "cell_type": "markdown",
   "metadata": {},
   "source": [
    "# L1 Regression"
   ]
  },
  {
   "cell_type": "code",
   "execution_count": 6,
   "metadata": {},
   "outputs": [],
   "source": [
    "learning_rate = 0.002\n",
    "epochs = 10000\n",
    "m,n = X.shape\n",
    "theta = np.ones(n)\n",
    "lemda = 1000000\n",
    "def new_gradient_descent(scaled_data, theta):\n",
    "    for i in range(epochs):\n",
    "        hypothesis = np.dot(scaled_data, theta.T)\n",
    "        sigmoid = 1/(1 + np.exp(-hypothesis))\n",
    "        cost = -((1/m) * np.sum(np.dot(y , np.log(sigmoid)) + np.dot(1 - y, np.log(1 - sigmoid)))) + ((lemda / m) * np.sum(np.abs(theta)))\n",
    "        derivative = ((1/m) * (np.sum(np.dot((sigmoid - y),scaled_data) + (lemda / m) * theta)))\n",
    "        theta = theta - (learning_rate * derivative)\n",
    "    return (theta, cost, sigmoid)\n"
   ]
  },
  {
   "cell_type": "code",
   "execution_count": 7,
   "metadata": {},
   "outputs": [],
   "source": [
    "(theta, cost, sigmoid) = new_gradient_descent(scaled_data, theta)\n",
    "hypothesis = np.dot(scaled_data, theta.T)\n",
    "sigmoid = 1/(1 + np.exp(-hypothesis))"
   ]
  },
  {
   "cell_type": "code",
   "execution_count": 8,
   "metadata": {},
   "outputs": [
    {
     "data": {
      "text/plain": [
       "array([0.48905601, 0.4927944 , 0.50187275, ..., 0.50067722, 0.5021558 ,\n",
       "       0.49450782])"
      ]
     },
     "execution_count": 8,
     "metadata": {},
     "output_type": "execute_result"
    }
   ],
   "source": [
    "sigmoid"
   ]
  },
  {
   "cell_type": "code",
   "execution_count": 9,
   "metadata": {},
   "outputs": [],
   "source": [
    "prediction = [1 if i > 0.5 else 0 for i in sigmoid]"
   ]
  },
  {
   "cell_type": "code",
   "execution_count": 10,
   "metadata": {},
   "outputs": [
    {
     "data": {
      "text/plain": [
       "11.693131226219275"
      ]
     },
     "execution_count": 10,
     "metadata": {},
     "output_type": "execute_result"
    }
   ],
   "source": [
    "cost"
   ]
  },
  {
   "cell_type": "code",
   "execution_count": null,
   "metadata": {},
   "outputs": [],
   "source": []
  }
 ],
 "metadata": {
  "kernelspec": {
   "display_name": "Python 3",
   "language": "python",
   "name": "python3"
  },
  "language_info": {
   "codemirror_mode": {
    "name": "ipython",
    "version": 3
   },
   "file_extension": ".py",
   "mimetype": "text/x-python",
   "name": "python",
   "nbconvert_exporter": "python",
   "pygments_lexer": "ipython3",
   "version": "3.8.5"
  }
 },
 "nbformat": 4,
 "nbformat_minor": 4
}
