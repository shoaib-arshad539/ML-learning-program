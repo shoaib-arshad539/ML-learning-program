{
 "cells": [
  {
   "cell_type": "code",
   "execution_count": 1,
   "metadata": {},
   "outputs": [],
   "source": [
    "import numpy as np\n",
    "import matplotlib.pyplot as plt\n",
    "import os\n",
    "import pandas as pd"
   ]
  },
  {
   "cell_type": "code",
   "execution_count": 2,
   "metadata": {},
   "outputs": [],
   "source": [
    "data = np.loadtxt('ex1data1.txt', delimiter=',')"
   ]
  },
  {
   "cell_type": "code",
   "execution_count": 3,
   "metadata": {},
   "outputs": [],
   "source": [
    "X, y = data[:, 0], data[:, 1]\n",
    "\n",
    "m = y.size # number of training examples"
   ]
  },
  {
   "cell_type": "code",
   "execution_count": 11,
   "metadata": {},
   "outputs": [],
   "source": [
    "w = 0\n",
    "b = 0\n",
    "\n",
    "# Building the model\n",
    "def gradient_descent(X, y):\n",
    "    w = 0\n",
    "    b = 0\n",
    "\n",
    "    L = 0.01 # The learning Rate\n",
    "    epochs = 10000 # The number of iterations to perform gradient descent\n",
    "\n",
    "    m = float(len(X)) # Number of elements in X\n",
    "\n",
    "    # Performing Gradient Descent \n",
    "    for i in range(epochs): \n",
    "        Y_pred = w*X + b  # The current predicted value of Y\n",
    "        cost = (1/(2*m))*np.sum(np.square(y-Y_pred))\n",
    "        D_w = (-2/m) * np.sum(X * (y - Y_pred))  # Derivative wrt m\n",
    "        D_b = (-2/m) * np.sum(y - Y_pred)  # Derivative wrt c\n",
    "        w = w - (L * D_w)  # Update m\n",
    "        b = b - (L * D_b)  # Update c\n",
    "    return (w,b,cost)"
   ]
  },
  {
   "cell_type": "code",
   "execution_count": 12,
   "metadata": {},
   "outputs": [
    {
     "name": "stdout",
     "output_type": "stream",
     "text": [
      "1.1930336441895875 -3.895780878311793 4.476971375975179\n"
     ]
    },
    {
     "data": {
      "image/png": "[encoded data removed]",
      "text/plain": [
       "<Figure size 432x288 with 1 Axes>"
      ]
     },
     "metadata": {
      "needs_background": "light"
     },
     "output_type": "display_data"
    }
   ],
   "source": [
    "(w,b,cost) = gradient_descent(X, y)\n",
    "print(w,b,cost)\n",
    "Y_pred = w*X + b\n",
    "plt.scatter(X, y)\n",
    "plt.plot([min(X), max(X)], [min(Y_pred), max(Y_pred)], color='red') # predicted\n",
    "plt.show()"
   ]
  },
  {
   "cell_type": "markdown",
   "metadata": {},
   "source": [
    "y = wx + b\n",
    "\n",
    "y = mx + c"
   ]
  },
  {
   "cell_type": "markdown",
   "metadata": {},
   "source": [
    "# Update Rule"
   ]
  },
  {
   "cell_type": "markdown",
   "metadata": {},
   "source": [
    "w = w - alpha.dw\n",
    "\n",
    "b = b - alpha.db"
   ]
  },
  {
   "cell_type": "code",
   "execution_count": null,
   "metadata": {},
   "outputs": [],
   "source": []
  }
 ],
 "metadata": {
  "kernelspec": {
   "display_name": "Python 3",
   "language": "python",
   "name": "python3"
  },
  "language_info": {
   "codemirror_mode": {
    "name": "ipython",
    "version": 3
   },
   "file_extension": ".py",
   "mimetype": "text/x-python",
   "name": "python",
   "nbconvert_exporter": "python",
   "pygments_lexer": "ipython3",
   "version": "3.8.2"
  }
 },
 "nbformat": 4,
 "nbformat_minor": 4
}
